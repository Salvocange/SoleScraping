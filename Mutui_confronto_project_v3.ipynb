{
 "cells": [
  {
   "cell_type": "code",
   "execution_count": 6,
   "metadata": {},
   "outputs": [
    {
     "name": "stdout",
     "output_type": "stream",
     "text": [
      "Requirement already satisfied: selenium in ./opt/anaconda3/lib/python3.7/site-packages (3.141.0)\n",
      "Requirement already satisfied: urllib3 in ./opt/anaconda3/lib/python3.7/site-packages (from selenium) (1.25.8)\n",
      "/bin/sh: apt-get: command not found\n",
      "Unable to locate an executable at \"/Library/Java/JavaVirtualMachines/jdk1.8.0_202.jdk/Contents/Home/bin/apt\" (-1)\n",
      "usage: cp [-R [-H | -L | -P]] [-fi | -n] [-apvXc] source_file target_file\n",
      "       cp [-R [-H | -L | -P]] [-fi | -n] [-apvXc] source_file ... target_directory\n"
     ]
    }
   ],
   "source": [
    "!pip install selenium\n",
    "!apt-get update\n",
    "!apt install chromium-chromedriver\n",
    "!cp /usr/lib/chromium-browser/chromedriver/usr/bin"
   ]
  },
  {
   "cell_type": "code",
   "execution_count": 7,
   "metadata": {},
   "outputs": [],
   "source": [
    "import sys\n",
    "sys.path.insert(0,'/usr/lib/chromium-browser/chromedriver')\n",
    "from selenium import webdriver\n",
    "from tqdm import tqdm_notebook as tqdm\n",
    "import pandas\n",
    "import json\n",
    "import pprint\n",
    "import numpy as np\n",
    "import time"
   ]
  },
  {
   "cell_type": "code",
   "execution_count": 8,
   "metadata": {},
   "outputs": [],
   "source": [
    "chrome_options = webdriver.ChromeOptions()\n",
    "#chrome_options.add_argument('--headless')\n",
    "chrome_options.add_argument('--no-sandbox')\n",
    "chrome_options.add_argument('--disable-dev-shm-usage')"
   ]
  },
  {
   "cell_type": "code",
   "execution_count": 9,
   "metadata": {},
   "outputs": [
    {
     "name": "stderr",
     "output_type": "stream",
     "text": [
      "/Users/cangelosi/opt/anaconda3/lib/python3.7/site-packages/ipykernel_launcher.py:1: DeprecationWarning: use options instead of chrome_options\n",
      "  \"\"\"Entry point for launching an IPython kernel.\n"
     ]
    }
   ],
   "source": [
    "wd = webdriver.Chrome(executable_path='/Users/cangelosi/Desktop/chromedriver',chrome_options=chrome_options)\n",
    "#wd.get(\"https://mutuionline.24oreborsaonline.ilsole24ore.com/\")"
   ]
  },
  {
   "cell_type": "code",
   "execution_count": 10,
   "metadata": {},
   "outputs": [],
   "source": [
    "def parse_project(offerta_mutuo,list_data_extraction):\n",
    "    chiave_ricerca=list_data_extraction\n",
    "    rata = \"\"\n",
    "    periodicita = \"\"\n",
    "    banca = \"\"\n",
    "    tipo_mutuo = \"\"\n",
    "    tasso = \"\"\n",
    "    spese_iniziali=\"\"\n",
    "    taeg=\"\"\n",
    "    link_dettagli=\"\"\n",
    "    vantaggi=\"\"\n",
    "    \n",
    "    try:\n",
    "        rata=offerta_mutuo.find_elements_by_css_selector(\"tbody > tr > td > div > span\")[1].text\n",
    "\n",
    "        periodicita=offerta_mutuo.find_elements_by_css_selector(\"tbody > tr > td > div > span\")[2].text        \n",
    "        \n",
    "        banca=offerta_mutuo.find_elements_by_css_selector(\"tbody > tr:nth-child(1) > td:nth-child(3) > table > tbody > tr:nth-child(1) > td > div.prNameTitle > strong\")[0].text\n",
    "        comodo_tipo_mutuo=offerta_mutuo.find_elements_by_css_selector(\"tbody > tr > td > div > table > tbody > tr:nth-child(1) > td:nth-child(3) > table > tbody > tr:nth-child(1) > td > div.prNameTitle\")[0].text\n",
    "        tipo_mutuo=comodo_tipo_mutuo.lstrip(banca).lstrip(\"\\n\").lstrip(\" \")\n",
    "        tasso=offerta_mutuo.find_elements_by_css_selector(\"tbody > tr > td > table > tbody > tr:nth-child(2) > td.celladx-elencoprodotti > strong\")[0].text    \n",
    "\n",
    "        comodo_spese_iniziali=offerta_mutuo.find_elements_by_css_selector(\"tbody > tr > td > table > tbody > tr:nth-child(3) > td.celladx-elencoprodotti \")[0].text.split(sep='-')\n",
    "        comodo_spese_iniziali2=[comodo_spese_iniziali[k].split(sep=':') for k in range(0,len(comodo_spese_iniziali))]\n",
    "        spese_iniziali={k: v for k, v in comodo_spese_iniziali2}\n",
    "\n",
    "        taeg=offerta_mutuo.find_elements_by_css_selector(\"tbody > tr > td > table > tbody > tr:nth-child(4) > td.celladx-elencoprodotti > strong\")[0].text\n",
    "        link_dettagli=offerta_mutuo.find_elements_by_css_selector(\"tbody > tr > td > table > tbody > tr:nth-child(5) > td > a\")[0].get_attribute('href')\n",
    "        comodo_vantaggi=offerta_mutuo.find_elements_by_css_selector(\"tbody > tr > td:nth-child(5) > table > tbody > tr > td:nth-child(2)\")\n",
    "        vantaggi=[comodo_vantaggi[j].text for j in range(0,len(comodo_vantaggi))]\n",
    "    except:\n",
    "        rata = \"errore\"\n",
    "        periodicita=\"errore\"\n",
    "        banca = \"errore\"\n",
    "        tipo_mutuo = \"errore\"\n",
    "        tasso = \"errore\"\n",
    "        spese_iniziali=\"errore\"\n",
    "        taeg=\"errore\"\n",
    "        link_dettagli=\"errore\"\n",
    "        vantaggi=\"errore\"\n",
    "\n",
    "    return {'chiave ricerca':chiave_ricerca,\n",
    "            'rata': rata,\n",
    "            'periodicita': periodicita,\n",
    "            'banca': banca,\n",
    "            'tipo_mutuo': tipo_mutuo,\n",
    "            'tasso': tasso,\n",
    "            'spese_iniziali': spese_iniziali,\n",
    "            'taeg': taeg,\n",
    "            'link_dettagli': link_dettagli,\n",
    "            'vantaggi': vantaggi}\n",
    "\n"
   ]
  },
  {
   "cell_type": "code",
   "execution_count": 11,
   "metadata": {},
   "outputs": [],
   "source": [
    "def bot_cerca_offerta_mutuo(num_iterazione,fin_mutuo_id, tipo_tasso_id, valore_immobile_id,valore_mutuo_value, durata_mutuo_id, eta_richiedente_value, pos_lavorativa_id, reddito_richiedente_value, comune_dom_id, com_immobile_id,stato_ricerca_id):\n",
    "    finalita_mutuo_dominio=['Acquisto Prima Casa','Acquisto Seconda Casa','Surroga','Ristrutturazione']\n",
    "    #Inserisco la finalità del mutuo\n",
    "    valore_immobile = wd.find_element_by_id(\"CodiceFinalita_cb\")\n",
    "    valore_immobile.clear()\n",
    "    time.sleep(0.8+np.random.randn()*0.2)    \n",
    "    valore_immobile_value=finalita_mutuo_dominio[fin_mutuo_id]\n",
    "    valore_immobile.send_keys(valore_immobile_value)\n",
    "    valore_immobile.send_keys(u'\\ue007')\n",
    "    #Occorre capire se vada fatto invio dato che si tratta di menu combo\n",
    "\n",
    "    time.sleep(3.2+np.random.randn()*0.2)\n",
    "\n",
    "    tipo_tasso_dominio=['Fisso','Variabile','Variabile con cap','Variabile a rata costante']\n",
    "    #Inserisco il tipo di tasso\n",
    "    tipo_tasso = wd.find_element_by_id(\"CodiceTipoTasso_cb\")\n",
    "    tipo_tasso.clear()\n",
    "    tipo_tasso_value=tipo_tasso_dominio[tipo_tasso_id]\n",
    "    time.sleep(1)\n",
    "    tipo_tasso.send_keys(tipo_tasso_value)\n",
    "    tipo_tasso.send_keys(u'\\ue007')\n",
    "\n",
    "    time.sleep(3.3+np.random.randn()*0.2)\n",
    "\n",
    "    #Inserisco il valore dell'immobile\n",
    "    valore_immobile_dominio=[100000,150000,200000,250000,300000]\n",
    "    valore_immobile = wd.find_element_by_id(\"Valore\")\n",
    "    valore_immobile.clear()\n",
    "    valore_immobile_value=valore_immobile_dominio[valore_immobile_id]    \n",
    "    time.sleep(2)    \n",
    "    valore_immobile.send_keys(valore_immobile_value)\n",
    "    valore_immobile.send_keys(u'\\ue007')\n",
    "\n",
    "    time.sleep(3.2+np.random.randn()*0.2)\n",
    "\n",
    "    #Inserisco il valore del mutuo\n",
    "    valore_mutuo = wd.find_element_by_id(\"ImportoMutuo\")\n",
    "    valore_mutuo.clear()\n",
    "    #valore_mutuo_value=valore_mutuo\n",
    "    valore_mutuo.send_keys(valore_mutuo_value)\n",
    "    valore_mutuo.send_keys(u'\\ue007')\n",
    "\n",
    "    time.sleep(3.3+np.random.randn()*0.2)\n",
    "\n",
    "    durata_mutuo_dominio=['5','7','10','12','15','20','25','30','35','40']\n",
    "    #Durata mutuo\n",
    "    durata_mutuo = wd.find_element_by_id(\"CodiceDurata_cb\")\n",
    "    durata_mutuo.clear()\n",
    "    durata_mutuo_value=durata_mutuo_dominio[durata_mutuo_id]\n",
    "    durata_mutuo.send_keys(durata_mutuo_value)\n",
    "    durata_mutuo.send_keys(u'\\ue007')\n",
    "\n",
    "    time.sleep(3.2+np.random.randn()*0.2)\n",
    "\n",
    "    #eta richiedente\n",
    "    eta_richiedente = wd.find_element_by_name(\"Eta\")\n",
    "    eta_richiedente.clear()\n",
    "    #eta_richiedente_value=eta\n",
    "    eta_richiedente.send_keys(eta_richiedente_value)\n",
    "    eta_richiedente.send_keys(u'\\ue007')\n",
    "\n",
    "    time.sleep(3.3+np.random.randn()*0.2)\n",
    "\n",
    "    posizione_lavorativa_dominio=['Dip. tempo indeterminato','Dip. tempo determinato']\n",
    "    #Posizione lavorativa\n",
    "    posizione_lavorativa = wd.find_element_by_id(\"CodCategoriaReddituale_cb\")\n",
    "    posizione_lavorativa.clear()\n",
    "    posizione_lavorativa_value=posizione_lavorativa_dominio[pos_lavorativa_id]\n",
    "    posizione_lavorativa.send_keys(posizione_lavorativa_value)\n",
    "    posizione_lavorativa.send_keys(u'\\ue007')\n",
    "\n",
    "    time.sleep(3.2+np.random.randn()*0.2)\n",
    "\n",
    "    #reddito richiedente\n",
    "    reddito_richiedente = wd.find_element_by_id(\"Reddito\")\n",
    "    reddito_richiedente.clear()\n",
    "    #reddito_richiedente_value=reddito\n",
    "    reddito_richiedente.send_keys(reddito_richiedente_value)\n",
    "    reddito_richiedente.send_keys(u'\\ue007')\n",
    "\n",
    "    time.sleep(3.3+np.random.randn()*0.2)\n",
    "\n",
    "    comune_domicilio_dominio=['Milano','Bergamo']\n",
    "    #Comune di domicilio\n",
    "    comune_domicilio = wd.find_element_by_id(\"ComuneResidenza\")\n",
    "    comune_domicilio.clear()\n",
    "    comune_domicilio_value=comune_domicilio_dominio[comune_dom_id]\n",
    "    comune_domicilio.send_keys(comune_domicilio_value)\n",
    "    comune_domicilio.send_keys(u'\\ue007')\n",
    "\n",
    "    time.sleep(3.2+np.random.randn()*0.2)\n",
    "\n",
    "    comune_immobile_dominio=['Milano','Bergamo']\n",
    "    #Comune dell'immobile\n",
    "    comune_immobile = wd.find_element_by_id(\"ComuneImmobile\")\n",
    "    comune_immobile.clear()\n",
    "    comune_immobile_value=comune_immobile_dominio[com_immobile_id]\n",
    "    comune_immobile.send_keys(comune_immobile_value)\n",
    "    comune_immobile.send_keys(u'\\ue007')\n",
    "\n",
    "    time.sleep(3.3+np.random.randn()*0.2)\n",
    "\n",
    "    stato_ricerca_immobile_dominio=['Firmato compromesso','Fatta proposta di acquisto','Individuato immobile']\n",
    "    #Stato ricerca dell'immobile\n",
    "    stato_ricerca_immobile = wd.find_element_by_id(\"CodStatoAvanzAcquisto_cb\")\n",
    "    stato_ricerca_immobile.clear()\n",
    "    stato_ricerca_immobile_value=stato_ricerca_immobile_dominio[stato_ricerca_id]\n",
    "    stato_ricerca_immobile.send_keys(stato_ricerca_immobile_value)\n",
    "    durata_mutuo.send_keys(u'\\ue007')\n",
    "\n",
    "\n",
    "    time.sleep(3.2+np.random.randn()*0.2)\n",
    "\n",
    "    #linkAggiornaRicerca <- Pulsante di aggiornamento ricerca\n",
    "\n",
    "    #wd.save_screenshot('screenshot.png')\n",
    "\n",
    "    #%pylab inline\n",
    "    #import matplotlib.pyplot as plt\n",
    "    #import matplotlib.image as mpimg\n",
    "    #img=mpimg.imread('/content/screenshot.png')\n",
    "    #imgplot = plt.imshow(img)\n",
    "    #plt.show()\n",
    "\n",
    "    #Effettuo il click sul form di ricerca\n",
    "    #cerca_button=wd.find_element_by_css_selector('#div_submit > a')\n",
    "    #time.sleep(4+np.random.randn()*0.2)\n",
    "    if num_iterazione==1:\n",
    "        wd.execute_script(\"$('#div_submit > a').click()\")\n",
    "    else:\n",
    "        wd.execute_script(\"$('#linkAggiornaRicerca').click()\")       \n",
    "\n",
    "    #cerca_button.click\n",
    "    time.sleep(10+np.random.randn()*0.2)\n",
    "    flag_visualizzazione_unica = wd.find_element_by_css_selector(\"tr > td:nth-child(7) > div > label > i\")\n",
    "    flag_visualizzazione_unica.click()\n",
    "    \n",
    "    return 1"
   ]
  },
  {
   "cell_type": "code",
   "execution_count": 17,
   "metadata": {},
   "outputs": [
    {
     "name": "stderr",
     "output_type": "stream",
     "text": [
      "/Users/cangelosi/opt/anaconda3/lib/python3.7/site-packages/ipykernel_launcher.py:6: TqdmDeprecationWarning: This function will be removed in tqdm==5.0.0\n",
      "Please use `tqdm.notebook.tqdm` instead of `tqdm.tqdm_notebook`\n",
      "  \n"
     ]
    },
    {
     "data": {
      "application/vnd.jupyter.widget-view+json": {
       "model_id": "5a26a0521b1e401cb2fef33d5fdb489f",
       "version_major": 2,
       "version_minor": 0
      },
      "text/plain": [
       "HBox(children=(FloatProgress(value=0.0, max=6.0), HTML(value='')))"
      ]
     },
     "metadata": {},
     "output_type": "display_data"
    },
    {
     "name": "stdout",
     "output_type": "stream",
     "text": [
      "\n"
     ]
    }
   ],
   "source": [
    "elenco_offerte_mutui = []\n",
    "list_data_extraction=[[0,0,3,100000,6,30,0,2000,0,0,0],[0,0,4,100000,7,30,0,2500,0,0,0],[0,0,3,100000,6,30,0,2000,1,1,0],[0,0,4,100000,7,30,0,2500,1,1,0],[0,0,3,100000,6,30,0,3000,0,0,0],[0,0,4,100000,7,30,0,1500,1,1,0]]\n",
    "wd.get(\"https://mutuionline.24oreborsaonline.ilsole24ore.com/\")\n",
    "time.sleep(30)\n",
    "\n",
    "for i in tqdm(range(0,len(list_data_extraction))):\n",
    "    bot_cerca_offerta_mutuo(i+1,list_data_extraction[i][0],\\\n",
    "                            list_data_extraction[i][1],\\\n",
    "                            list_data_extraction[i][2],\\\n",
    "                            list_data_extraction[i][3],\\\n",
    "                            list_data_extraction[i][4],\\\n",
    "                            list_data_extraction[i][5],\\\n",
    "                            list_data_extraction[i][6],\\\n",
    "                            list_data_extraction[i][7],\\\n",
    "                            list_data_extraction[i][8],\\\n",
    "                            list_data_extraction[i][9],\\\n",
    "                            list_data_extraction[i][10])    \n",
    "    time.sleep(3)\n",
    "    flag_visualizzazione_unica = wd.find_element_by_css_selector(\"tr > td:nth-child(7) > div > label > i\")\n",
    "    flag_visualizzazione_unica.click()\n",
    "    time.sleep(5+np.random.randn()*0.2)\n",
    "    wd.save_screenshot(f'screenshot_{i}.png')\n",
    "    list_offerte_mutuo = wd.find_elements_by_css_selector(\"td > div > table\")\n",
    "              \n",
    "    for offerta_mutuo_el in list_offerte_mutuo:\n",
    "        elenco_offerte_mutui.append(parse_project(offerta_mutuo_el,list_data_extraction[i]))\n",
    "              \n",
    "              \n",
    "              "
   ]
  },
  {
   "cell_type": "code",
   "execution_count": 19,
   "metadata": {},
   "outputs": [],
   "source": [
    "import pandas as pd\n",
    "ds_elenco_mutui = pd.DataFrame(elenco_offerte_mutui)\n",
    "#ds_elenco_mutui.set_index(\"project_id\")\n",
    "ds_elenco_mutui.head(70)\n",
    "#ds_elenco_mutui.info()\n",
    "ds_elenco_mutui.to_csv('ds_mutui.csv')"
   ]
  },
  {
   "cell_type": "code",
   "execution_count": 86,
   "metadata": {},
   "outputs": [
    {
     "data": {
      "text/plain": [
       "{'rata': '€ 308,05',\n",
       " 'periodicita': '(mensile)',\n",
       " 'banca': 'BANCA CARIGE',\n",
       " 'tipo_mutuo': 'MUTUO MIGLIORCASA FISSO',\n",
       " 'tasso': 'Fisso: 0,70%',\n",
       " 'spese_iniziali': {'Istruttoria': ' € 850,00 ', ' Perizia': ' € 270,00'},\n",
       " 'taeg': '0,90%',\n",
       " 'link_dettagli': 'https://mutuionline.24oreborsaonline.ilsole24ore.com/banche-mutui/banca-carige/mutuo-migliorcasa-fisso/21/71/?22837226551497063662',\n",
       " 'vantaggi': ['Condizioni esclusive MutuiOnline']}"
      ]
     },
     "execution_count": 86,
     "metadata": {},
     "output_type": "execute_result"
    }
   ],
   "source": [
    "parse_project(list_offerte_mutuo[0])"
   ]
  },
  {
   "cell_type": "code",
   "execution_count": 84,
   "metadata": {},
   "outputs": [
    {
     "name": "stdout",
     "output_type": "stream",
     "text": [
      "['Inizi a pagare dopo 1 anno', 'Tasso Promozionale con sottoscrizione Polizza Vita', 'Extra sconto 0,10% per classe energetica A o B']\n"
     ]
    }
   ],
   "source": [
    "list_offerte_mutuo = wd.find_elements_by_css_selector(\"td > div > table\")\n",
    "offerta_mutuo=list_offerte_mutuo[6]\n",
    "comodo_vantaggi=offerta_mutuo.find_elements_by_css_selector(\"tbody > tr > td:nth-child(5) > table > tbody > tr > td:nth-child(2)\")\n",
    "vantaggi=[comodo_vantaggi[j].text for j in range(0,len(comodo_vantaggi))]\n",
    "print(vantaggi)\n"
   ]
  },
  {
   "cell_type": "code",
   "execution_count": null,
   "metadata": {},
   "outputs": [],
   "source": []
  }
 ],
 "metadata": {
  "kernelspec": {
   "display_name": "Python 3",
   "language": "python",
   "name": "python3"
  },
  "language_info": {
   "codemirror_mode": {
    "name": "ipython",
    "version": 3
   },
   "file_extension": ".py",
   "mimetype": "text/x-python",
   "name": "python",
   "nbconvert_exporter": "python",
   "pygments_lexer": "ipython3",
   "version": "3.7.6"
  }
 },
 "nbformat": 4,
 "nbformat_minor": 4
}
